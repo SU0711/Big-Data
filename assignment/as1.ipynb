{
 "cells": [
  {
   "cell_type": "code",
   "execution_count": 1,
   "id": "268cf36c-2702-49b7-a838-c32b2fb83c16",
   "metadata": {},
   "outputs": [],
   "source": [
    "# [+] SparkSession 설정\n",
    "from pyspark.sql import SparkSession\n",
    "\n",
    "spark = SparkSession.builder.master('local').appName('udf_age').getOrCreate()"
   ]
  },
  {
   "cell_type": "code",
   "execution_count": 2,
   "id": "9952e5b8-94cd-40df-9764-d780af4ca434",
   "metadata": {},
   "outputs": [],
   "source": [
    "# 나이대\n",
    "hsu_age = [\n",
    "    ('이상수', 24),\n",
    "    ('김찬용', 65),\n",
    "    ('조윤상', 33),\n",
    "    ('이주헌', 52),\n",
    "    ('윤영호', 41)\n",
    "]"
   ]
  },
  {
   "cell_type": "code",
   "execution_count": 3,
   "id": "d2ed9c5e-4af1-45cd-b2c3-e2dedecafce9",
   "metadata": {},
   "outputs": [],
   "source": [
    "schema = ['name', 'age']"
   ]
  },
  {
   "cell_type": "code",
   "execution_count": 13,
   "id": "a4fa28b7-b2ba-4106-91d4-57df69b39122",
   "metadata": {},
   "outputs": [],
   "source": [
    "df = spark.createDataFrame(data=hsu_age, schema=schema)"
   ]
  },
  {
   "cell_type": "code",
   "execution_count": 14,
   "id": "01dbc036-dd25-404a-b739-20e777aa74db",
   "metadata": {},
   "outputs": [],
   "source": [
    "df.createOrReplaceTempView('hsu')"
   ]
  },
  {
   "cell_type": "code",
   "execution_count": 15,
   "id": "848e5864-8efd-43b7-a436-f01c90c9fe49",
   "metadata": {},
   "outputs": [
    {
     "name": "stdout",
     "output_type": "stream",
     "text": [
      "+------+---+\n",
      "|  name|age|\n",
      "+------+---+\n",
      "|이상수| 24|\n",
      "|김찬용| 65|\n",
      "|조윤상| 33|\n",
      "|이주헌| 52|\n",
      "|윤영호| 41|\n",
      "+------+---+\n",
      "\n"
     ]
    }
   ],
   "source": [
    "df.show()"
   ]
  },
  {
   "cell_type": "code",
   "execution_count": 16,
   "id": "f6aaa3fe-6710-4142-97c9-c862b861dabf",
   "metadata": {},
   "outputs": [
    {
     "name": "stdout",
     "output_type": "stream",
     "text": [
      "root\n",
      " |-- name: string (nullable = true)\n",
      " |-- age: long (nullable = true)\n",
      "\n"
     ]
    }
   ],
   "source": [
    "df.printSchema()"
   ]
  },
  {
   "cell_type": "code",
   "execution_count": 17,
   "id": "229dcaca-f235-44a6-bb55-66e128906a21",
   "metadata": {},
   "outputs": [],
   "source": [
    "from pyspark.sql.functions import udf"
   ]
  },
  {
   "cell_type": "code",
   "execution_count": 18,
   "id": "7dda5610-0ccb-42d0-a4de-f610b4c04d90",
   "metadata": {},
   "outputs": [],
   "source": [
    "# UDF 2: age별로 분류\n",
    "def age_category(age):\n",
    "    if age < 35:\n",
    "        return 'young'\n",
    "    elif age >= 35 and age <60:\n",
    "        return 'adult'\n",
    "    else:\n",
    "        return 'senior'"
   ]
  },
  {
   "cell_type": "code",
   "execution_count": 19,
   "id": "e98adc8c-0ede-423a-bbb2-4a7f49eeb8b3",
   "metadata": {},
   "outputs": [
    {
     "data": {
      "text/plain": [
       "<function __main__.age_category(age)>"
      ]
     },
     "execution_count": 19,
     "metadata": {},
     "output_type": "execute_result"
    }
   ],
   "source": [
    "spark.udf.register('age_category',age_category)"
   ]
  },
  {
   "cell_type": "code",
   "execution_count": 21,
   "id": "c984ae79-0e75-40b0-8d78-aab8d7ee4ebe",
   "metadata": {},
   "outputs": [
    {
     "name": "stdout",
     "output_type": "stream",
     "text": [
      "+------+-----------------+\n",
      "|  Name|age_category(age)|\n",
      "+------+-----------------+\n",
      "|이상수|            young|\n",
      "|김찬용|           senior|\n",
      "|조윤상|            young|\n",
      "|이주헌|            adult|\n",
      "|윤영호|            adult|\n",
      "+------+-----------------+\n",
      "\n"
     ]
    }
   ],
   "source": [
    "spark.sql(\n",
    "    \"SELECT Name,\\\n",
    "    age_category(age)\\\n",
    "    FROM hsu\").show()"
   ]
  },
  {
   "cell_type": "code",
   "execution_count": null,
   "id": "37d37ddb-2c35-4628-9732-b02023a8d6d7",
   "metadata": {},
   "outputs": [],
   "source": []
  }
 ],
 "metadata": {
  "kernelspec": {
   "display_name": "Python 3 (ipykernel)",
   "language": "python",
   "name": "python3"
  },
  "language_info": {
   "codemirror_mode": {
    "name": "ipython",
    "version": 3
   },
   "file_extension": ".py",
   "mimetype": "text/x-python",
   "name": "python",
   "nbconvert_exporter": "python",
   "pygments_lexer": "ipython3",
   "version": "3.9.13"
  }
 },
 "nbformat": 4,
 "nbformat_minor": 5
}
